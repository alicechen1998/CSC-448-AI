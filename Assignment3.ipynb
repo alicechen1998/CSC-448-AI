{
  "cells": [
    {
      "cell_type": "markdown",
      "metadata": {
        "id": "view-in-github",
        "colab_type": "text"
      },
      "source": [
        "<a href=\"https://colab.research.google.com/github/alicechen1998/CSC-448-AI/blob/main/Assignment3.ipynb\" target=\"_parent\"><img src=\"https://colab.research.google.com/assets/colab-badge.svg\" alt=\"Open In Colab\"/></a>"
      ]
    },
    {
      "cell_type": "code",
      "execution_count": null,
      "id": "34bef983",
      "metadata": {
        "id": "34bef983"
      },
      "outputs": [],
      "source": [
        "#import section\n",
        "import pandas as pd\n",
        "import numpy as np\n",
        "from sklearn.model_selection import train_test_split\n",
        "from sklearn.linear_model import LinearRegression\n",
        "from sklearn.linear_model import BayesianRidge\n",
        "from sklearn.model_selection import cross_val_score\n",
        "from sklearn.preprocessing import PolynomialFeatures\n",
        "from sklearn.model_selection import ShuffleSplit\n",
        "from sklearn import linear_model\n",
        "\n"
      ]
    },
    {
      "cell_type": "code",
      "execution_count": null,
      "id": "2ebc253a",
      "metadata": {
        "id": "2ebc253a",
        "outputId": "b9364888-3eb4-41bf-d347-a43044bfabde"
      },
      "outputs": [
        {
          "data": {
            "text/html": [
              "<div>\n",
              "<style scoped>\n",
              "    .dataframe tbody tr th:only-of-type {\n",
              "        vertical-align: middle;\n",
              "    }\n",
              "\n",
              "    .dataframe tbody tr th {\n",
              "        vertical-align: top;\n",
              "    }\n",
              "\n",
              "    .dataframe thead th {\n",
              "        text-align: right;\n",
              "    }\n",
              "</style>\n",
              "<table border=\"1\" class=\"dataframe\">\n",
              "  <thead>\n",
              "    <tr style=\"text-align: right;\">\n",
              "      <th></th>\n",
              "      <th>Temperature °C</th>\n",
              "      <th>Mols KCL</th>\n",
              "      <th>Size nm^3</th>\n",
              "    </tr>\n",
              "  </thead>\n",
              "  <tbody>\n",
              "    <tr>\n",
              "      <th>0</th>\n",
              "      <td>469</td>\n",
              "      <td>647</td>\n",
              "      <td>6.244743e+05</td>\n",
              "    </tr>\n",
              "    <tr>\n",
              "      <th>1</th>\n",
              "      <td>403</td>\n",
              "      <td>694</td>\n",
              "      <td>5.779610e+05</td>\n",
              "    </tr>\n",
              "    <tr>\n",
              "      <th>2</th>\n",
              "      <td>302</td>\n",
              "      <td>975</td>\n",
              "      <td>6.196847e+05</td>\n",
              "    </tr>\n",
              "    <tr>\n",
              "      <th>3</th>\n",
              "      <td>779</td>\n",
              "      <td>916</td>\n",
              "      <td>1.460449e+06</td>\n",
              "    </tr>\n",
              "    <tr>\n",
              "      <th>4</th>\n",
              "      <td>901</td>\n",
              "      <td>18</td>\n",
              "      <td>4.325726e+04</td>\n",
              "    </tr>\n",
              "    <tr>\n",
              "      <th>5</th>\n",
              "      <td>545</td>\n",
              "      <td>637</td>\n",
              "      <td>7.124634e+05</td>\n",
              "    </tr>\n",
              "    <tr>\n",
              "      <th>6</th>\n",
              "      <td>660</td>\n",
              "      <td>519</td>\n",
              "      <td>7.006960e+05</td>\n",
              "    </tr>\n",
              "    <tr>\n",
              "      <th>7</th>\n",
              "      <td>143</td>\n",
              "      <td>869</td>\n",
              "      <td>2.718260e+05</td>\n",
              "    </tr>\n",
              "    <tr>\n",
              "      <th>8</th>\n",
              "      <td>89</td>\n",
              "      <td>461</td>\n",
              "      <td>8.919803e+04</td>\n",
              "    </tr>\n",
              "    <tr>\n",
              "      <th>9</th>\n",
              "      <td>294</td>\n",
              "      <td>776</td>\n",
              "      <td>4.770210e+05</td>\n",
              "    </tr>\n",
              "    <tr>\n",
              "      <th>10</th>\n",
              "      <td>991</td>\n",
              "      <td>117</td>\n",
              "      <td>2.441771e+05</td>\n",
              "    </tr>\n",
              "    <tr>\n",
              "      <th>11</th>\n",
              "      <td>307</td>\n",
              "      <td>781</td>\n",
              "      <td>5.006455e+05</td>\n",
              "    </tr>\n",
              "    <tr>\n",
              "      <th>12</th>\n",
              "      <td>206</td>\n",
              "      <td>70</td>\n",
              "      <td>3.145200e+04</td>\n",
              "    </tr>\n",
              "    <tr>\n",
              "      <th>13</th>\n",
              "      <td>437</td>\n",
              "      <td>599</td>\n",
              "      <td>5.390215e+05</td>\n",
              "    </tr>\n",
              "    <tr>\n",
              "      <th>14</th>\n",
              "      <td>566</td>\n",
              "      <td>75</td>\n",
              "      <td>9.185271e+04</td>\n",
              "    </tr>\n",
              "  </tbody>\n",
              "</table>\n",
              "</div>"
            ],
            "text/plain": [
              "    Temperature °C  Mols KCL     Size nm^3\n",
              "0              469       647  6.244743e+05\n",
              "1              403       694  5.779610e+05\n",
              "2              302       975  6.196847e+05\n",
              "3              779       916  1.460449e+06\n",
              "4              901        18  4.325726e+04\n",
              "5              545       637  7.124634e+05\n",
              "6              660       519  7.006960e+05\n",
              "7              143       869  2.718260e+05\n",
              "8               89       461  8.919803e+04\n",
              "9              294       776  4.770210e+05\n",
              "10             991       117  2.441771e+05\n",
              "11             307       781  5.006455e+05\n",
              "12             206        70  3.145200e+04\n",
              "13             437       599  5.390215e+05\n",
              "14             566        75  9.185271e+04"
            ]
          },
          "execution_count": 49,
          "metadata": {},
          "output_type": "execute_result"
        }
      ],
      "source": [
        "#Using pandas load the dataset\n",
        "dataset = pd.read_csv(\"https://raw.githubusercontent.com/profmcnich/example_notebook/main/science_data_large.csv\")\n",
        "\n",
        "#output the first 15 rows of the data\n",
        "dataset.head(15)"
      ]
    },
    {
      "cell_type": "code",
      "execution_count": null,
      "id": "2e9e6a94",
      "metadata": {
        "id": "2e9e6a94",
        "outputId": "9f76f9c1-d181-4ae9-e578-104cb4204c15"
      },
      "outputs": [
        {
          "name": "stdout",
          "output_type": "stream",
          "text": [
            "<class 'pandas.core.frame.DataFrame'>\n",
            "RangeIndex: 1000 entries, 0 to 999\n",
            "Data columns (total 3 columns):\n",
            " #   Column          Non-Null Count  Dtype  \n",
            "---  ------          --------------  -----  \n",
            " 0   Temperature °C  1000 non-null   int64  \n",
            " 1   Mols KCL        1000 non-null   int64  \n",
            " 2   Size nm^3       1000 non-null   float64\n",
            "dtypes: float64(1), int64(2)\n",
            "memory usage: 23.6 KB\n"
          ]
        },
        {
          "data": {
            "text/html": [
              "<div>\n",
              "<style scoped>\n",
              "    .dataframe tbody tr th:only-of-type {\n",
              "        vertical-align: middle;\n",
              "    }\n",
              "\n",
              "    .dataframe tbody tr th {\n",
              "        vertical-align: top;\n",
              "    }\n",
              "\n",
              "    .dataframe thead th {\n",
              "        text-align: right;\n",
              "    }\n",
              "</style>\n",
              "<table border=\"1\" class=\"dataframe\">\n",
              "  <thead>\n",
              "    <tr style=\"text-align: right;\">\n",
              "      <th></th>\n",
              "      <th>Temperature °C</th>\n",
              "      <th>Mols KCL</th>\n",
              "      <th>Size nm^3</th>\n",
              "    </tr>\n",
              "  </thead>\n",
              "  <tbody>\n",
              "    <tr>\n",
              "      <th>count</th>\n",
              "      <td>1000.000000</td>\n",
              "      <td>1000.000000</td>\n",
              "      <td>1.000000e+03</td>\n",
              "    </tr>\n",
              "    <tr>\n",
              "      <th>mean</th>\n",
              "      <td>500.500000</td>\n",
              "      <td>471.530000</td>\n",
              "      <td>5.086111e+05</td>\n",
              "    </tr>\n",
              "    <tr>\n",
              "      <th>std</th>\n",
              "      <td>288.819436</td>\n",
              "      <td>288.482872</td>\n",
              "      <td>4.474838e+05</td>\n",
              "    </tr>\n",
              "    <tr>\n",
              "      <th>min</th>\n",
              "      <td>1.000000</td>\n",
              "      <td>1.000000</td>\n",
              "      <td>1.611429e+01</td>\n",
              "    </tr>\n",
              "    <tr>\n",
              "      <th>25%</th>\n",
              "      <td>250.750000</td>\n",
              "      <td>226.750000</td>\n",
              "      <td>1.298267e+05</td>\n",
              "    </tr>\n",
              "    <tr>\n",
              "      <th>50%</th>\n",
              "      <td>500.500000</td>\n",
              "      <td>459.500000</td>\n",
              "      <td>3.827182e+05</td>\n",
              "    </tr>\n",
              "    <tr>\n",
              "      <th>75%</th>\n",
              "      <td>750.250000</td>\n",
              "      <td>710.250000</td>\n",
              "      <td>7.603211e+05</td>\n",
              "    </tr>\n",
              "    <tr>\n",
              "      <th>max</th>\n",
              "      <td>1000.000000</td>\n",
              "      <td>1000.000000</td>\n",
              "      <td>1.972127e+06</td>\n",
              "    </tr>\n",
              "  </tbody>\n",
              "</table>\n",
              "</div>"
            ],
            "text/plain": [
              "       Temperature °C     Mols KCL     Size nm^3\n",
              "count     1000.000000  1000.000000  1.000000e+03\n",
              "mean       500.500000   471.530000  5.086111e+05\n",
              "std        288.819436   288.482872  4.474838e+05\n",
              "min          1.000000     1.000000  1.611429e+01\n",
              "25%        250.750000   226.750000  1.298267e+05\n",
              "50%        500.500000   459.500000  3.827182e+05\n",
              "75%        750.250000   710.250000  7.603211e+05\n",
              "max       1000.000000  1000.000000  1.972127e+06"
            ]
          },
          "execution_count": 50,
          "metadata": {},
          "output_type": "execute_result"
        }
      ],
      "source": [
        "#Display a summary of the table information\n",
        "dataset.info()\n",
        "dataset.describe()"
      ]
    },
    {
      "cell_type": "code",
      "execution_count": null,
      "id": "125007f2",
      "metadata": {
        "id": "125007f2",
        "outputId": "becfcada-61db-4e63-8670-b2ff22d8852b"
      },
      "outputs": [
        {
          "data": {
            "text/plain": [
              "(   Temperature °C  Mols KCL\n",
              " 0             469       647\n",
              " 1             403       694\n",
              " 2             302       975\n",
              " 3             779       916\n",
              " 4             901        18,\n",
              "       Size nm^3\n",
              " 0  6.244743e+05\n",
              " 1  5.779610e+05\n",
              " 2  6.196847e+05\n",
              " 3  1.460449e+06\n",
              " 4  4.325726e+04)"
            ]
          },
          "execution_count": 51,
          "metadata": {},
          "output_type": "execute_result"
        }
      ],
      "source": [
        "# Take the pandas dataset and split it into our features (X) and label (y)\n",
        "\n",
        "features_x = dataset[[\"Temperature °C\",\"Mols KCL\"]]\n",
        "features_y = dataset[[\"Size nm^3\"]]\n",
        "features_x.head(),features_y.head()\n",
        "\n",
        "\n",
        "\n"
      ]
    },
    {
      "cell_type": "code",
      "execution_count": null,
      "id": "6b88f618",
      "metadata": {
        "id": "6b88f618",
        "outputId": "b3cbb15c-aee9-42ff-f448-5d08fd70d65b"
      },
      "outputs": [
        {
          "data": {
            "text/plain": [
              "(     Temperature °C  Mols KCL\n",
              " 867              44       193\n",
              " 787             877       693\n",
              " 626             529       203\n",
              " 894              40       173\n",
              " 359             910       954\n",
              " ..              ...       ...\n",
              " 151             464        18\n",
              " 336             555       836\n",
              " 120               3         5\n",
              " 236             766       485\n",
              " 671             763       302\n",
              " \n",
              " [900 rows x 2 columns],\n",
              "      Temperature °C  Mols KCL\n",
              " 872             254       662\n",
              " 986             853       458\n",
              " 729             459        85\n",
              " 499             426       708\n",
              " 988             250        83\n",
              " ..              ...       ...\n",
              " 930             620       898\n",
              " 194             699       236\n",
              " 704              85       439\n",
              " 967             533       963\n",
              " 19              227       864\n",
              " \n",
              " [100 rows x 2 columns],\n",
              "         Size nm^3\n",
              " 867  1.857626e+04\n",
              " 787  1.239767e+06\n",
              " 626  2.222994e+05\n",
              " 894  1.517511e+04\n",
              " 359  1.773203e+06\n",
              " ..            ...\n",
              " 151  2.228126e+04\n",
              " 336  9.545885e+05\n",
              " 120  6.671429e+01\n",
              " 236  7.589327e+05\n",
              " 671  4.726138e+05\n",
              " \n",
              " [900 rows x 1 columns],\n",
              "         Size nm^3\n",
              " 872  3.518653e+05\n",
              " 986  7.975773e+05\n",
              " 729  8.374443e+04\n",
              " 499  6.226498e+05\n",
              " 988  4.469683e+04\n",
              " ..            ...\n",
              " 930  1.144000e+06\n",
              " 194  3.399073e+05\n",
              " 704  8.115631e+04\n",
              " 967  1.059450e+06\n",
              " 19   4.163085e+05\n",
              " \n",
              " [100 rows x 1 columns])"
            ]
          },
          "execution_count": 52,
          "metadata": {},
          "output_type": "execute_result"
        }
      ],
      "source": [
        "# Use sklearn to split the features and labels into a training/test set.\n",
        "x_training, x_test, y_training, y_test =train_test_split(features_x,features_y,test_size=.10)\n",
        "x_training, x_test, y_training,y_test"
      ]
    },
    {
      "cell_type": "code",
      "execution_count": null,
      "id": "0f56d0a5",
      "metadata": {
        "scrolled": true,
        "id": "0f56d0a5",
        "outputId": "f4aef5b3-b76a-4115-8734-7dd08a3240ed"
      },
      "outputs": [
        {
          "name": "stdout",
          "output_type": "stream",
          "text": [
            "prediction result is : [[660529.91846883]]\n",
            "the score is  0.8656836141108663\n",
            "Cofficents: [[ 871.73802283 1024.64056704]]\n",
            "intercept: [-412691.46165248]\n"
          ]
        },
        {
          "name": "stderr",
          "output_type": "stream",
          "text": [
            "C:\\Users\\nianx\\AppData\\Local\\Programs\\Python\\Python39\\lib\\site-packages\\sklearn\\base.py:450: UserWarning: X does not have valid feature names, but LinearRegression was fitted with feature names\n",
            "  warnings.warn(\n"
          ]
        }
      ],
      "source": [
        "# Use sklearn to train a model on the training set\n",
        "training_set = LinearRegression().fit(x_training,y_training)\n",
        "\n",
        "# Create a sample datapoint and predict the output of that sample with the trained model\n",
        "predict = training_set.predict(np.array([[339,759]]))\n",
        "print(\"prediction result is :\",predict)\n",
        "score = training_set.score(x_test,y_test)\n",
        "print(\"the score is \",score)\n",
        "\n",
        "# Extract the coefficents and intercept from the model and write an equation for your h(x) using LaTeX\n",
        "coeff = training_set.coef_\n",
        "inter = training_set.intercept_\n",
        "print(\"Cofficents:\",coeff)\n",
        "print(\"intercept:\",inter)\n"
      ]
    },
    {
      "cell_type": "raw",
      "id": "7ee8ca66",
      "metadata": {
        "id": "7ee8ca66"
      },
      "source": [
        "# Report on the score for that model, in your own words (markdown, not code) explain what the score means\n",
        "\n",
        "The score shows us how the accurate of our data is. "
      ]
    },
    {
      "cell_type": "code",
      "execution_count": null,
      "id": "b4f78cef",
      "metadata": {
        "id": "b4f78cef",
        "outputId": "35d99f7d-a290-45a7-ebc7-e56438d16cd6"
      },
      "outputs": [
        {
          "name": "stdout",
          "output_type": "stream",
          "text": [
            "[0.64882522 0.78728015 0.85631925 0.85044365 0.87021809 0.83725501\n",
            " 0.90893923 0.86877506 0.79069681 0.84660731 0.80594196 0.79256554\n",
            " 0.89416959 0.92396806 0.86706903 0.86850174 0.86099373 0.88308441\n",
            " 0.87893048 0.75694778 0.88168173 0.93386456 0.85976771 0.8280768\n",
            " 0.88461523 0.78619831 0.86823597 0.87887634 0.88814958 0.65689015\n",
            " 0.89850348 0.87893767 0.86607369 0.87570745 0.85212462 0.88574623\n",
            " 0.80215454 0.89837729 0.79802598 0.87495632 0.81054851 0.4941715\n",
            " 0.79714043 0.77884766 0.85771576 0.85664386 0.91958977 0.87456685\n",
            " 0.9053441  0.8647177 ]\n"
          ]
        }
      ],
      "source": [
        "# Use the cross_val_score function to repeat your experiment across many shuffles of the data\n",
        "\n",
        "scores = cross_val_score(training_set,features_x,features_y,cv = 50)\n",
        "print(scores)\n",
        "\n",
        "\n"
      ]
    },
    {
      "cell_type": "code",
      "execution_count": null,
      "id": "44fd9403",
      "metadata": {
        "id": "44fd9403"
      },
      "outputs": [],
      "source": [
        "# Report on their finding and their significance\n",
        "#it is very similar to part 3, the measure of accuracy.. as you can see the range is around 80 to 67 with an outlier of 49. \n"
      ]
    },
    {
      "cell_type": "code",
      "execution_count": null,
      "id": "1503a19b",
      "metadata": {
        "id": "1503a19b",
        "outputId": "91666c5b-899b-48fe-c352-b52a26cf0b75"
      },
      "outputs": [
        {
          "name": "stdout",
          "output_type": "stream",
          "text": [
            "The score:  1.0\n",
            "The prediction: [[3.51865257e+05]\n",
            " [7.97577257e+05]\n",
            " [8.37444286e+04]\n",
            " [6.22649829e+05]\n",
            " [4.46968286e+04]\n",
            " [3.50800114e+05]\n",
            " [4.16356029e+05]\n",
            " [7.90416000e+04]\n",
            " [2.26740429e+05]\n",
            " [2.33313257e+05]\n",
            " [6.68045716e+03]\n",
            " [1.46083211e+06]\n",
            " [1.39407457e+05]\n",
            " [1.20913260e+06]\n",
            " [4.56082714e+05]\n",
            " [1.31596457e+05]\n",
            " [1.66058286e+04]\n",
            " [4.10314304e+02]\n",
            " [1.07312314e+05]\n",
            " [2.88919429e+05]\n",
            " [5.23650400e+05]\n",
            " [7.58377114e+05]\n",
            " [2.45986714e+05]\n",
            " [1.70761660e+06]\n",
            " [4.58031857e+05]\n",
            " [3.26921143e+04]\n",
            " [8.28351143e+04]\n",
            " [3.62571630e+01]\n",
            " [5.36190829e+05]\n",
            " [4.40629714e+05]\n",
            " [8.41912114e+05]\n",
            " [1.97212740e+06]\n",
            " [1.70568429e+05]\n",
            " [4.31400600e+05]\n",
            " [9.25585716e+03]\n",
            " [1.40512903e+06]\n",
            " [5.89426857e+05]\n",
            " [6.03241257e+05]\n",
            " [1.03650411e+06]\n",
            " [2.64800029e+05]\n",
            " [1.04120286e+04]\n",
            " [2.87068457e+05]\n",
            " [1.21469714e+05]\n",
            " [1.53670731e+06]\n",
            " [4.68467143e+04]\n",
            " [3.27117457e+05]\n",
            " [8.14731430e+03]\n",
            " [1.15344643e+06]\n",
            " [3.86430429e+05]\n",
            " [1.07736803e+06]\n",
            " [4.92524600e+05]\n",
            " [2.19952457e+05]\n",
            " [3.59614029e+05]\n",
            " [4.22777829e+05]\n",
            " [1.07004960e+06]\n",
            " [5.81400286e+04]\n",
            " [1.49315314e+05]\n",
            " [2.56361143e+04]\n",
            " [1.76954503e+06]\n",
            " [2.42666829e+05]\n",
            " [3.05595400e+05]\n",
            " [9.08938286e+04]\n",
            " [1.02880114e+05]\n",
            " [2.16833457e+05]\n",
            " [7.07185714e+05]\n",
            " [7.67623429e+05]\n",
            " [8.91769114e+05]\n",
            " [3.75531400e+05]\n",
            " [9.02100600e+05]\n",
            " [7.91088286e+04]\n",
            " [6.65511429e+03]\n",
            " [2.84966314e+05]\n",
            " [1.50487143e+04]\n",
            " [1.30380711e+06]\n",
            " [1.97787143e+04]\n",
            " [8.51571314e+05]\n",
            " [8.18464114e+05]\n",
            " [1.47449711e+06]\n",
            " [2.89780114e+05]\n",
            " [6.70937114e+05]\n",
            " [3.25132829e+05]\n",
            " [4.77348457e+05]\n",
            " [1.14387431e+06]\n",
            " [1.29384686e+06]\n",
            " [1.28284457e+05]\n",
            " [3.78242857e+05]\n",
            " [1.72224626e+06]\n",
            " [1.60854571e+04]\n",
            " [7.81566429e+05]\n",
            " [1.23143271e+06]\n",
            " [1.25717211e+06]\n",
            " [7.42452257e+05]\n",
            " [8.70682858e+03]\n",
            " [1.73630100e+06]\n",
            " [4.92338400e+05]\n",
            " [1.14400011e+06]\n",
            " [3.39907314e+05]\n",
            " [8.11563143e+04]\n",
            " [1.05945026e+06]\n",
            " [4.16308457e+05]]\n",
            "the coefficients: [[ 0.00000000e+00  1.20000000e+01 -1.41971645e-07  3.19033688e-12\n",
            "   2.00000000e+00  2.85714287e-02]]\n",
            "The intercept: [2.05796096e-05]\n"
          ]
        }
      ],
      "source": [
        "# Using the PolynomialFeatures(2)library perform another regression on an augmented dataset of degree 2\n",
        "polynomial = PolynomialFeatures(2)\n",
        "x_training = polynomial.fit_transform(x_training)\n",
        "x_test = polynomial.fit_transform(x_test)\n",
        "y_test = np.array(y_test)\n",
        "\n",
        "model = linear_model.LinearRegression()\n",
        "model.fit(x_training,y_training)\n",
        "print(\"The score: \", model.score(x_training,y_training))\n",
        "print(\"The prediction:\",model.predict(x_test))\n",
        "print(\"the coefficients:\",model.coef_)\n",
        "print(\"The intercept:\",model.intercept_)"
      ]
    },
    {
      "cell_type": "raw",
      "id": "b3426370",
      "metadata": {
        "id": "b3426370"
      },
      "source": [
        "# Report on the metrics and output the resultant equation as you did in Part 3\n",
        "The equation is: y = 0 + 1.20000000e+01 \n",
        "\n"
      ]
    },
    {
      "cell_type": "code",
      "execution_count": null,
      "id": "728f1b1c",
      "metadata": {
        "id": "728f1b1c"
      },
      "outputs": [],
      "source": [
        ""
      ]
    }
  ],
  "metadata": {
    "kernelspec": {
      "display_name": "Python 3 (ipykernel)",
      "language": "python",
      "name": "python3"
    },
    "language_info": {
      "codemirror_mode": {
        "name": "ipython",
        "version": 3
      },
      "file_extension": ".py",
      "mimetype": "text/x-python",
      "name": "python",
      "nbconvert_exporter": "python",
      "pygments_lexer": "ipython3",
      "version": "3.9.8"
    },
    "colab": {
      "name": "Assignment3.ipynb",
      "provenance": [],
      "include_colab_link": true
    }
  },
  "nbformat": 4,
  "nbformat_minor": 5
}
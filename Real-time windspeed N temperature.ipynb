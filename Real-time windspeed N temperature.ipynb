{
 "cells": [
  {
   "cell_type": "code",
   "execution_count": 1,
   "id": "a4f78391",
   "metadata": {},
   "outputs": [],
   "source": [
    "import pyowm"
   ]
  },
  {
   "cell_type": "code",
   "execution_count": 2,
   "id": "f9da7857",
   "metadata": {},
   "outputs": [],
   "source": [
    "api = pyowm.OWM('fe698ca5b8b0b4f6457070173ed57ebc')\n",
    "collectinfo = api.weather_at_place(\"Auburn,US\")\n",
    "short = collectinfo.get_weather()\n",
    "temperature = short.get_temperature('fahrenheit')\n",
    "wind = short.get_wind()"
   ]
  },
  {
   "cell_type": "code",
   "execution_count": 3,
   "id": "c9d05ee2",
   "metadata": {},
   "outputs": [
    {
     "name": "stdout",
     "output_type": "stream",
     "text": [
      "{'temp': 47.41, 'temp_max': 49.71, 'temp_min': 45.25, 'temp_kf': None}\n",
      "{'speed': 7.72, 'deg': 350, 'gust': 9.26}\n"
     ]
    }
   ],
   "source": [
    "print(temperature)\n",
    "print(wind)"
   ]
  },
  {
   "cell_type": "code",
   "execution_count": null,
   "id": "4901bb46",
   "metadata": {},
   "outputs": [],
   "source": []
  }
 ],
 "metadata": {
  "kernelspec": {
   "display_name": "Python 3 (ipykernel)",
   "language": "python",
   "name": "python3"
  },
  "language_info": {
   "codemirror_mode": {
    "name": "ipython",
    "version": 3
   },
   "file_extension": ".py",
   "mimetype": "text/x-python",
   "name": "python",
   "nbconvert_exporter": "python",
   "pygments_lexer": "ipython3",
   "version": "3.9.8"
  }
 },
 "nbformat": 4,
 "nbformat_minor": 5
}

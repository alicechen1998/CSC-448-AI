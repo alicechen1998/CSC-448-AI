{
  "cells": [
    {
      "cell_type": "markdown",
      "metadata": {
        "id": "view-in-github",
        "colab_type": "text"
      },
      "source": [
        "<a href=\"https://colab.research.google.com/github/alicechen1998/CSC-448-AI/blob/main/Real-time%20windspeed%20N%20temperature.ipynb\" target=\"_parent\"><img src=\"https://colab.research.google.com/assets/colab-badge.svg\" alt=\"Open In Colab\"/></a>"
      ]
    },
    {
      "cell_type": "code",
      "execution_count": null,
      "id": "19caeafb",
      "metadata": {
        "id": "19caeafb"
      },
      "outputs": [],
      "source": [
        "http://localhost:8888/notebooks/Real-time%20windspeed%20N%20temperature.ipynb#\n",
        "        "
      ]
    },
    {
      "cell_type": "code",
      "execution_count": null,
      "id": "43110fe8",
      "metadata": {
        "id": "43110fe8"
      },
      "outputs": [],
      "source": [
        "api = pyowm.OWM('fe698ca5b8b0b4f6457070173ed57ebX') #API ID \n",
        "collectinfo = api.weather_at_place(\"Auburn,US\") #location \n",
        "short = collectinfo.get_weather() # collected data from API\n",
        "temperature = short.get_temperature('fahrenheit') #var of temperature\n",
        "wind = short.get_wind() #var of wind speed "
      ]
    },
    {
      "cell_type": "code",
      "execution_count": null,
      "id": "2859e9eb",
      "metadata": {
        "id": "2859e9eb",
        "outputId": "6249c546-3ae3-46ee-8c04-d2388993fa84"
      },
      "outputs": [
        {
          "name": "stdout",
          "output_type": "stream",
          "text": [
            "{'temp': 47.41, 'temp_max': 49.71, 'temp_min': 45.25, 'temp_kf': None}\n",
            "{'speed': 7.72, 'deg': 350, 'gust': 9.26}\n"
          ]
        }
      ],
      "source": [
        "print(temperature) #output\n",
        "print(wind) #output"
      ]
    },
    {
      "cell_type": "code",
      "execution_count": null,
      "id": "2fa17809",
      "metadata": {
        "id": "2fa17809"
      },
      "outputs": [],
      "source": [
        " "
      ]
    }
  ],
  "metadata": {
    "kernelspec": {
      "display_name": "Python 3 (ipykernel)",
      "language": "python",
      "name": "python3"
    },
    "language_info": {
      "codemirror_mode": {
        "name": "ipython",
        "version": 3
      },
      "file_extension": ".py",
      "mimetype": "text/x-python",
      "name": "python",
      "nbconvert_exporter": "python",
      "pygments_lexer": "ipython3",
      "version": "3.9.8"
    },
    "colab": {
      "name": "Real-time windspeed N temperature.ipynb",
      "provenance": [],
      "include_colab_link": true
    }
  },
  "nbformat": 4,
  "nbformat_minor": 5
}